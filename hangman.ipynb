{
  "cells": [
    {
      "cell_type": "markdown",
      "metadata": {
        "id": "view-in-github",
        "colab_type": "text"
      },
      "source": [
        "<a href=\"https://colab.research.google.com/github/CadenTanLK/hangman/blob/main/hangman.ipynb\" target=\"_parent\"><img src=\"https://colab.research.google.com/assets/colab-badge.svg\" alt=\"Open In Colab\"/></a>"
      ]
    },
    {
      "cell_type": "code",
      "execution_count": null,
      "metadata": {
        "colab": {
          "base_uri": "https://localhost:8080/"
        },
        "id": "wukHFXno2Re9",
        "outputId": "a1bd8325-3f35-4f10-82b2-0fb132185425"
      },
      "outputs": [
        {
          "metadata": {
            "tags": null
          },
          "name": "stdout",
          "output_type": "stream",
          "text": [
            "\n",
            "Category: Countries\n",
            "Welcome to Hangman!\n",
            "_________\n",
            "Good guess!\n",
            "a____a__a\n",
            "Incorrect guesses: 1/6\n",
            "\n",
            "         ------\n",
            "         |    |\n",
            "         |    O\n",
            "         |\n",
            "         |\n",
            "         |\n",
            "        ---\n",
            "        \n",
            "a____a__a\n",
            "Good guess!\n",
            "au___a__a\n",
            "Good guess!\n",
            "aus__a__a\n",
            "Good guess!\n",
            "aust_a__a\n",
            "Good guess!\n",
            "austra__a\n",
            "Good guess!\n",
            "austral_a\n",
            "Good guess!\n",
            "australia\n",
            "Congratulations! You guessed the word 'australia'.\n",
            "Round Score: 35\n",
            "Total Score: 35\n"
          ]
        }
      ],
      "source": [
        "import random\n",
        "\n",
        "def choose_word():\n",
        "    # Words categorized by themes - dictionary key value pair\n",
        "    categories = {\n",
        "        \"animals\": [\"elephant\", \"giraffe\", \"tiger\", \"penguin\", \"dolphin\"],\n",
        "        \"countries\": [\"brazil\", \"japan\", \"canada\", \"india\", \"australia\"],\n",
        "        \"programming\": [\"python\", \"javascript\", \"java\", \"html\", \"css\"]\n",
        "    }\n",
        "\n",
        "    # Choose a random category and word from the list - functions\n",
        "    category = random.choice(list(categories.keys()))\n",
        "    word = random.choice(categories[category])\n",
        "\n",
        "    return category, word\n",
        "\n",
        "def display_hangman(incorrect_guesses):\n",
        "    # Visual representation of the hangman - skip if un-needed\n",
        "    hangman_graphics = [\n",
        "        \"\"\"\n",
        "         ------\n",
        "         |    |\n",
        "         |\n",
        "         |\n",
        "         |\n",
        "         |\n",
        "        ---\n",
        "        \"\"\"\n",
        "        ,\n",
        "        \"\"\"\n",
        "         ------\n",
        "         |    |\n",
        "         |    O\n",
        "         |\n",
        "         |\n",
        "         |\n",
        "        ---\n",
        "        \"\"\"\n",
        "        ,\n",
        "        \"\"\"\n",
        "         ------\n",
        "         |    |\n",
        "         |    O\n",
        "         |    |\n",
        "         |\n",
        "         |\n",
        "        ---\n",
        "        \"\"\"\n",
        "        ,\n",
        "        \"\"\"\n",
        "         ------\n",
        "         |    |\n",
        "         |    O\n",
        "         |   /|\n",
        "         |\n",
        "         |\n",
        "        ---\n",
        "        \"\"\"\n",
        "        ,\n",
        "        \"\"\"\n",
        "         ------\n",
        "         |    |\n",
        "         |    O\n",
        "         |   /|\\\\\n",
        "         |\n",
        "         |\n",
        "        ---\n",
        "        \"\"\"\n",
        "        ,\n",
        "        \"\"\"\n",
        "         ------\n",
        "         |    |\n",
        "         |    O\n",
        "         |   /|\\\\\n",
        "         |   /\n",
        "         |\n",
        "        ---\n",
        "        \"\"\"\n",
        "        ,\n",
        "        \"\"\"\n",
        "         ------\n",
        "         |    |\n",
        "         |    O\n",
        "         |   /|\\\\\n",
        "         |   / \\\\\n",
        "         |\n",
        "        ---\n",
        "        \"\"\"\n",
        "    ]\n",
        "\n",
        "    return hangman_graphics[incorrect_guesses]\n",
        "\n",
        "def display_word(word, guessed_letters):\n",
        "    # Display the word with guessed letters revealed, and others as underscores - functions\n",
        "    display = \"\".join(letter if letter in guessed_letters else \"_\" for letter in word)\n",
        "    return display\n",
        "\n",
        "def hangman():\n",
        "    total_score = 0\n",
        "\n",
        "    while True:\n",
        "        # Setup for a new round\n",
        "        category, secret_word = choose_word()\n",
        "        incorrect_guesses = 0\n",
        "        max_incorrect_guesses = 6  # Set the maximum number of incorrect guesses\n",
        "        guessed_letters = set()\n",
        "\n",
        "        print(f\"\\nCategory: {category.capitalize()}\")\n",
        "        print(\"Welcome to Hangman!\")\n",
        "        print(display_word(secret_word, guessed_letters))\n",
        "\n",
        "        # Main game loop - if while statements\n",
        "        while True:\n",
        "            # Get a letter from the player\n",
        "            guess = input(\"Guess a letter: \").lower()\n",
        "\n",
        "            # Check if the letter has already been guessed\n",
        "            if guess in guessed_letters:\n",
        "                print(\"You've already guessed that letter. Try again.\")\n",
        "                continue\n",
        "\n",
        "            guessed_letters.add(guess)\n",
        "\n",
        "            # Check if the guess is correct\n",
        "            if guess not in secret_word:\n",
        "                incorrect_guesses += 1\n",
        "                print(f\"Incorrect guesses: {incorrect_guesses}/{max_incorrect_guesses}\")\n",
        "                print(display_hangman(incorrect_guesses))\n",
        "\n",
        "                # Check if the player has run out of attempts\n",
        "                if incorrect_guesses == max_incorrect_guesses:\n",
        "                    print(f\"Sorry, you ran out of attempts. The word was '{secret_word}'.\")\n",
        "                    break\n",
        "\n",
        "            else:\n",
        "                print(\"Good guess!\")\n",
        "\n",
        "            # Display the current state of the word\n",
        "            current_state = display_word(secret_word, guessed_letters)\n",
        "            print(current_state)\n",
        "\n",
        "            # Check if the word has been guessed\n",
        "            if \"_\" not in current_state:\n",
        "                round_score = max(0, max_incorrect_guesses - incorrect_guesses) * len(set(secret_word))\n",
        "                total_score += round_score\n",
        "                print(f\"Congratulations! You guessed the word '{secret_word}'.\")\n",
        "                print(f\"Round Score: {round_score}\")\n",
        "                print(f\"Total Score: {total_score}\")\n",
        "                break\n",
        "\n",
        "        # Ask if the player wants to play another round\n",
        "        play_again = input(\"Do you want to play again? (y/n): \").lower()\n",
        "        if play_again != \"y\":\n",
        "            print(\"Thanks for playing! Goodbye!\")\n",
        "            break\n",
        "\n",
        "# Run the game\n",
        "hangman()"
      ]
    },
    {
      "cell_type": "code",
      "execution_count": null,
      "metadata": {
        "colab": {
          "base_uri": "https://localhost:8080/"
        },
        "id": "AbR53epqjkhD",
        "outputId": "5d45d3dc-cf45-4e53-eefe-3b5a2dc2b6a0"
      },
      "outputs": [
        {
          "name": "stdout",
          "output_type": "stream",
          "text": [
            "58\n",
            "[1, 2, 3, 5, 4]\n",
            "0.9380826555265669\n"
          ]
        }
      ],
      "source": [
        "# random\n",
        "\n",
        "import random\n",
        "\n",
        "random_number = random.randint(1, 100)\n",
        "print(random_number)\n",
        "\n",
        "my_list = [1, 2, 3, 4, 5]\n",
        "random.shuffle(my_list)\n",
        "print(my_list)\n",
        "\n",
        "random_float = random.random() # between 0 to 1\n",
        "print(random_float)"
      ]
    },
    {
      "cell_type": "code",
      "execution_count": null,
      "metadata": {
        "colab": {
          "base_uri": "https://localhost:8080/"
        },
        "id": "r2MAOd5bnj05",
        "outputId": "4f134329-ea11-4df4-a320-fbc027438fab"
      },
      "outputs": [
        {
          "name": "stdout",
          "output_type": "stream",
          "text": [
            "1\n",
            "5\n",
            "5\n",
            "1\n",
            "3\n",
            "4\n",
            "5\n",
            "6\n",
            "4 is hereeeeee in ma list\n",
            "[1, 3, 4, 5, 6, 182, 2828, 76]\n",
            "5\n",
            "[1, 3, 4, 5, 6]\n"
          ]
        }
      ],
      "source": [
        "# lists\n",
        "\n",
        "my_list = [1, 2, 3, 4, 5]\n",
        "\n",
        "# accessing elements\n",
        "print(my_list[0]) # first element\n",
        "print(my_list[-1]) # last element\n",
        "print(my_list[4]) # last element\n",
        "\n",
        "# modifying\n",
        "my_list[1] = 7 # replace\n",
        "\n",
        "my_list.append(6) # add element to the back\n",
        "my_list.insert(2, 9) # insert an element\n",
        "\n",
        "del my_list[1] # remove by index\n",
        "my_list.remove(9) # remove by first occurence\n",
        "\n",
        "for item in my_list:\n",
        "  print(item)\n",
        "\n",
        "if 4 in my_list:\n",
        "  print(\"4 is hereeeeee in ma list\")\n",
        "\n",
        "her_list = [182, 2828, 76]\n",
        "combine = my_list + her_list\n",
        "print(combine)\n",
        "\n",
        "print(len(my_list))\n",
        "print(my_list)"
      ]
    },
    {
      "cell_type": "code",
      "execution_count": null,
      "metadata": {
        "colab": {
          "base_uri": "https://localhost:8080/"
        },
        "id": "tBaJbo7vrp93",
        "outputId": "a5388835-0bfb-4846-a318-e81391d42098"
      },
      "outputs": [
        {
          "name": "stdout",
          "output_type": "stream",
          "text": [
            "HELLO, WORLD!\n",
            "hello, world!\n",
            "Hello, World! I am Caden!\n",
            "World!\n"
          ]
        }
      ],
      "source": [
        "# string manipulation\n",
        "original_string = \"Hello, World!\"\n",
        "\n",
        "# convert to uppercase using .upper()\n",
        "upper_string = original_string.upper()\n",
        "print(upper_string)\n",
        "\n",
        "# convert to lowercase using .lower()\n",
        "lower_string = original_string.lower()\n",
        "print(lower_string)\n",
        "\n",
        "# concatenate / combine strings\n",
        "new_string = original_string + \" I am Caden!\"\n",
        "print(new_string)\n",
        "\n",
        "# extract substring\n",
        "substring = original_string[7:]\n",
        "print(substring)"
      ]
    },
    {
      "cell_type": "code",
      "execution_count": null,
      "metadata": {
        "colab": {
          "base_uri": "https://localhost:8080/"
        },
        "id": "1P07xUz_uRGW",
        "outputId": "0475a5ee-03b6-43e1-90ba-73af6f5d90ef"
      },
      "outputs": [
        {
          "name": "stdout",
          "output_type": "stream",
          "text": [
            "Hello, Mr Gi!\n",
            "Hello, Joe Biden!\n",
            "9\n",
            "-5\n",
            "14\n",
            "0.2857142857142857\n"
          ]
        }
      ],
      "source": [
        "# functions\n",
        "def greet(name):\n",
        "  print('Hello, ' + name + '!')\n",
        "\n",
        "def add_numbers(a, b):\n",
        "  return a + b\n",
        "def sub_numbers(a, b):\n",
        "  return a - b\n",
        "def mult_numbers(a, b):\n",
        "  return a * b\n",
        "def div_numbers(a, b):\n",
        "  return a / b\n",
        "\n",
        "# main\n",
        "greet('Mr Gi')\n",
        "greet('Joe Biden')\n",
        "result = add_numbers(2, 7)\n",
        "results = sub_numbers(2, 7)\n",
        "resultss = mult_numbers(2, 7)\n",
        "resultsss = div_numbers(2, 7)\n",
        "print(result)\n",
        "print(results)\n",
        "print(resultss)\n",
        "print(resultsss)"
      ]
    },
    {
      "cell_type": "code",
      "execution_count": null,
      "metadata": {
        "colab": {
          "base_uri": "https://localhost:8080/"
        },
        "id": "wFXITT_z5HTO",
        "outputId": "7ebf7447-6c0c-4966-b062-fbc10d1ef3fd"
      },
      "outputs": [
        {
          "name": "stdout",
          "output_type": "stream",
          "text": [
            "x is zero\n",
            "apple\n",
            "banana\n",
            "pear\n",
            "4\n",
            "apple\n",
            "banana\n"
          ]
        }
      ],
      "source": [
        "# control flow\n",
        "\n",
        "# if else\n",
        "x = 0\n",
        "if x > 0:\n",
        "  print(\"x is positive\")\n",
        "elif x < 0:\n",
        "  print(\"x is negative\")\n",
        "else:\n",
        "  print(\"x is zero\")\n",
        "\n",
        "# for loop\n",
        "fruits = [\"apple\", \"banana\", \"pear\"]\n",
        "for fruit in fruits:\n",
        "  print(fruit)\n",
        "\n",
        "# while loop\n",
        "i = 0\n",
        "while i < 4:\n",
        "  i += 1\n",
        "print(i)\n",
        "\n",
        "# break loop\n",
        "fruits = [\"apple\", \"banana\", \"pear\"]\n",
        "for fruit in fruits:\n",
        "  print(fruit)\n",
        "  if fruit == \"banana\":\n",
        "    break\n",
        "\n",
        "# pass\n",
        "x = 10\n",
        "if x > 0:\n",
        "  pass\n",
        "else:\n",
        "  print(\"x is negative\")"
      ]
    },
    {
      "cell_type": "code",
      "execution_count": null,
      "metadata": {
        "colab": {
          "base_uri": "https://localhost:8080/"
        },
        "id": "EReDRzOP7p5E",
        "outputId": "3d8be2f5-940d-44cf-9922-1b344e26ee09"
      },
      "outputs": [
        {
          "name": "stdout",
          "output_type": "stream",
          "text": [
            "Enter your guess: 2\n",
            "The guess is correcto!\n"
          ]
        }
      ],
      "source": [
        "# life system\n",
        "\n",
        "attempts = 3\n",
        "correct_guess = 2\n",
        "\n",
        "while attempts > 0:\n",
        "  guess = input(\"Enter your guess: \")\n",
        "  if guess == str(correct_guess):\n",
        "    print(\"The guess is correcto!\")\n",
        "    break\n",
        "  attempts -= 1\n",
        "else:\n",
        "  print(\"You lost\")"
      ]
    },
    {
      "cell_type": "code",
      "execution_count": null,
      "metadata": {
        "colab": {
          "base_uri": "https://localhost:8080/"
        },
        "id": "8qAgG7S99cih",
        "outputId": "22658622-f8bd-43da-dac8-7ef69f9d1e3d"
      },
      "outputs": [
        {
          "name": "stdout",
          "output_type": "stream",
          "text": [
            "Welcome to my Number Guessing Game\n",
            "I have a number between 1 - 100. Goodluck guessing it!\n",
            "Enter your guess: 63\n",
            "Your guess is too high!\n",
            "Enter your guess: 26\n",
            "Your guess is too high!\n",
            "Enter your guess: 18\n",
            "Your guess is too high!\n",
            "Enter your guess: 6\n",
            "The guess is correcto!\n"
          ]
        }
      ],
      "source": [
        "# random number guessing game\n",
        "import random\n",
        "\n",
        "def guess_number():\n",
        "  attempts = 5\n",
        "  correct_guess = random.randint(1, 100)\n",
        "  print(\"Welcome to my Number Guessing Game\")\n",
        "  print(\"I have a number between 1 - 100. Goodluck guessing it!\")\n",
        "  while attempts > 0:\n",
        "    guess = input(\"Enter your guess: \")\n",
        "    if guess == str(correct_guess):\n",
        "      print(\"The guess is correcto!\")\n",
        "      break\n",
        "\n",
        "    elif int(guess) < correct_guess:\n",
        "      print(\"Your guess is too low!\")\n",
        "    elif int(guess) > correct_guess:\n",
        "      print(\"Your guess is too high!\")\n",
        "    attempts -= 1\n",
        "\n",
        "  if attempts == 0:\n",
        "    print(\"ya lost the number was \" + str(correct_guess))\n",
        "\n",
        "guess_number()"
      ]
    },
    {
      "cell_type": "code",
      "execution_count": null,
      "metadata": {
        "colab": {
          "base_uri": "https://localhost:8080/"
        },
        "id": "UAxedGwCBF0S",
        "outputId": "d2e1feb2-6165-4cdb-8c63-f6afa2805537"
      },
      "outputs": [
        {
          "name": "stdout",
          "output_type": "stream",
          "text": [
            "car vroom vroom\n",
            "skrrt skrrt\n",
            "car vroom vroom\n",
            "Truck load cargo\n",
            "woof!\n",
            "meow!\n"
          ]
        }
      ],
      "source": [
        "# Object - Oriented Programming (OOP)\n",
        "\n",
        "# classes\n",
        "class Car:\n",
        "  def __init__(self, color, brand, model):\n",
        "    self.color = color\n",
        "    self.speed = brand\n",
        "    self.model = model\n",
        "\n",
        "  def drive(self):\n",
        "    print(\"car vroom vroom\")\n",
        "  def stop(self):\n",
        "    print(\"skrrt skrrt\")\n",
        "\n",
        "# Objects (instance)\n",
        "my_car = Car(\"blue\", \"lambo\", \"s20\")\n",
        "\n",
        "# Escapulation\n",
        "my_car.drive()\n",
        "my_car.stop()\n",
        "\n",
        "# inheritance\n",
        "class Truck(Car):\n",
        "  def __init__(self, color, brand, model, load_limit):\n",
        "    super().__init__(color, brand, model)\n",
        "    self.load_limit = load_limit\n",
        "\n",
        "  def load(self):\n",
        "    print(\"Truck load cargo\")\n",
        "\n",
        "truck = Truck(\"red\", \"hyundai\", \"big_wagon\", 5000)\n",
        "truck.drive()\n",
        "truck.load()\n",
        "\n",
        "# polymorphism\n",
        "class Animal:\n",
        "  def speak():\n",
        "    pass\n",
        "\n",
        "class Dog(Animal):\n",
        "  def speak(self):\n",
        "    print(\"woof!\")\n",
        "\n",
        "class Cat(Animal):\n",
        "  def speak(self):\n",
        "    print(\"meow!\")\n",
        "\n",
        "def noise(animal):\n",
        "  animal.speak()\n",
        "\n",
        "dog = Dog()\n",
        "cat = Cat()\n",
        "\n",
        "noise(dog)\n",
        "noise(cat)\n"
      ]
    },
    {
      "cell_type": "code",
      "execution_count": null,
      "metadata": {
        "colab": {
          "base_uri": "https://localhost:8080/"
        },
        "id": "BjWJovq3HNw9",
        "outputId": "c05eef14-0d01-4c8d-cfef-8a2ac1be679b"
      },
      "outputs": [
        {
          "name": "stdout",
          "output_type": "stream",
          "text": [
            "Welcome to the Number guess game\n",
            "Choose difficulty from 1 - 3\n",
            "Enter level: 2\n",
            "Enter your guess: 7\n",
            "Your guess is too low!\n",
            "Enter your guess: 20\n",
            "Your guess is too low!\n",
            "Enter your guess: 42\n",
            "Your guess is too high!\n",
            "Enter your guess: 37\n",
            "Your guess is too high!\n",
            "Enter your guess: 27\n",
            "Your guess is too low!\n",
            "You lost. The number was 28\n",
            "Play again? (y/n): n\n",
            "Goodbye!\n"
          ]
        }
      ],
      "source": [
        "# random number guessing game with difficulty\n",
        "import random\n",
        "\n",
        "class NumberGuessGame:\n",
        "  def __init__(self):\n",
        "    self.correct_guess = 0\n",
        "    self.attempts = 0\n",
        "    self.score = 0\n",
        "\n",
        "  def generate_number(self, level):\n",
        "    if level == 1:\n",
        "      return random.randint(1,10)\n",
        "    if level == 2:\n",
        "      return random.randint(1,50)\n",
        "    if level == 3:\n",
        "      return random.randint(1,100)\n",
        "\n",
        "  def start_game(self,level):\n",
        "    self.correct_guess = self.generate_number(level)\n",
        "    self.attempts = 5\n",
        "\n",
        "if __name__ == \"__main__\":\n",
        "  game = NumberGuessGame()\n",
        "  while True:\n",
        "    print(\"Welcome to the Number guess game\")\n",
        "    print(\"Choose difficulty from 1 - 3\")\n",
        "    level = int(input(\"Enter level: \"))\n",
        "    game.start_game(level)\n",
        "\n",
        "    while game.attempts > 0:\n",
        "      guess = int(input(\"Enter your guess: \"))\n",
        "      if guess == game.correct_guess:\n",
        "        print(\"The guess is correct!\")\n",
        "        break\n",
        "      elif guess < game.correct_guess:\n",
        "        print(\"Your guess is too low!\")\n",
        "      elif guess > game.correct_guess:\n",
        "        print(\"Your guess is too high!\")\n",
        "      game.attempts -= 1\n",
        "\n",
        "    if game.attempts > 1:\n",
        "      guess = int(input(\"Enter your guess: \"))\n",
        "\n",
        "    else:\n",
        "      print(\"You lost. The number was \" + str(game.correct_guess))\n",
        "\n",
        "    choice = input(\"Play again? (y/n): \")\n",
        "    if choice.lower() != \"y\":\n",
        "      print(\"Goodbye!\")\n",
        "      break"
      ]
    },
    {
      "cell_type": "code",
      "execution_count": null,
      "metadata": {
        "id": "wD9-LCBzP-J6"
      },
      "outputs": [],
      "source": [
        "# Term 1 assessment - create a pratical and theory question\n",
        "\n",
        "# practical question - create a hangman game using what was taught\n",
        "\n",
        "# theory question - how we could utilise a database in order to store the points\n",
        "# of the game to create a leaderboard"
      ]
    }
  ],
  "metadata": {
    "colab": {
      "provenance": [],
      "authorship_tag": "ABX9TyNaZaWYGz6GiSpvZYI8+JQ1",
      "include_colab_link": true
    },
    "kernelspec": {
      "display_name": "Python 3",
      "name": "python3"
    },
    "language_info": {
      "name": "python"
    }
  },
  "nbformat": 4,
  "nbformat_minor": 0
}